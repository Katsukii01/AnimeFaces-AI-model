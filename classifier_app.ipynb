{
 "cells": [
  {
   "cell_type": "code",
   "execution_count": 8,
   "metadata": {},
   "outputs": [
    {
     "name": "stderr",
     "output_type": "stream",
     "text": [
      "WARNING:absl:Compiled the loaded model, but the compiled metrics have yet to be built. `model.compile_metrics` will be empty until you train or evaluate the model.\n"
     ]
    },
    {
     "name": "stdout",
     "output_type": "stream",
     "text": [
      "\u001b[1m1/1\u001b[0m \u001b[32m━━━━━━━━━━━━━━━━━━━━\u001b[0m\u001b[37m\u001b[0m \u001b[1m0s\u001b[0m 45ms/step\n",
      "\u001b[1m1/1\u001b[0m \u001b[32m━━━━━━━━━━━━━━━━━━━━\u001b[0m\u001b[37m\u001b[0m \u001b[1m0s\u001b[0m 11ms/step\n",
      "\u001b[1m1/1\u001b[0m \u001b[32m━━━━━━━━━━━━━━━━━━━━\u001b[0m\u001b[37m\u001b[0m \u001b[1m0s\u001b[0m 16ms/step\n",
      "\u001b[1m1/1\u001b[0m \u001b[32m━━━━━━━━━━━━━━━━━━━━\u001b[0m\u001b[37m\u001b[0m \u001b[1m0s\u001b[0m 12ms/step\n",
      "\u001b[1m1/1\u001b[0m \u001b[32m━━━━━━━━━━━━━━━━━━━━\u001b[0m\u001b[37m\u001b[0m \u001b[1m0s\u001b[0m 10ms/step\n",
      "\u001b[1m1/1\u001b[0m \u001b[32m━━━━━━━━━━━━━━━━━━━━\u001b[0m\u001b[37m\u001b[0m \u001b[1m0s\u001b[0m 10ms/step\n",
      "\u001b[1m1/1\u001b[0m \u001b[32m━━━━━━━━━━━━━━━━━━━━\u001b[0m\u001b[37m\u001b[0m \u001b[1m0s\u001b[0m 12ms/step\n"
     ]
    }
   ],
   "source": [
    "import tkinter as tk\n",
    "from tkinter import filedialog, Label\n",
    "from PIL import Image, ImageTk\n",
    "import cv2\n",
    "import numpy as np\n",
    "import tensorflow as tf\n",
    "\n",
    "# Wczytanie wytrenowanego modelu\n",
    "model = tf.keras.models.load_model('face_classifier_model.h5')\n",
    "class_names= ['Anime Face', 'Not Anime Face']\n",
    "# Funkcja do klasyfikacji obrazu\n",
    "def classify_image():\n",
    "    # Wybieranie pliku obrazu\n",
    "    file_path = filedialog.askopenfilename()\n",
    "    if file_path:\n",
    "        # Wczytanie i przeskalowanie obrazu\n",
    "        image = cv2.imread(file_path)\n",
    "        image = cv2.cvtColor(image, cv2.COLOR_BGR2RGB)\n",
    "        image = cv2.resize(image, (180, 180))\n",
    "        \n",
    "        # Wyświetlenie wyniku klasyfikacji\n",
    "        pred = model.predict(image.reshape(1, 180, 180, 3), batch_size=1)\n",
    "\n",
    "\n",
    "        # Konwertuj wyniki na wartości prawdopodobieństwa za pomocą softmax\n",
    "        probs = tf.nn.softmax(pred)\n",
    "\n",
    "        # Wyświetl wyniki\n",
    "        predicted_class = np.argmax(probs)\n",
    "        predicted_class_name = class_names[predicted_class]\n",
    "        confidence = np.max(probs) * 100  # Prawdopodobieństwo w procentach\n",
    "        result_text.set(\"Zdjęcie należy do klasy - \" + predicted_class_name)\n",
    "        result2_text.set(\"z prawdopodobieństwem - \" + str(confidence) + \"%\")\n",
    "        \n",
    "        # Wyświetlenie podglądu obrazu\n",
    "        img = Image.fromarray(image.astype('uint8'), 'RGB')\n",
    "        img = img.resize((200, 200))\n",
    "        img = ImageTk.PhotoImage(img)\n",
    "        image_label.config(image=img)\n",
    "        image_label.image = img\n",
    "\n",
    "\n",
    "# Tworzenie interfejsu graficznego\n",
    "root = tk.Tk()\n",
    "root.title(\"Klasyfikacja Anime Face\")\n",
    "root.geometry(\"400x500\")\n",
    "\n",
    "# Przycisk do wyboru pliku\n",
    "browse_button = tk.Button(root, text=\"Wybierz obraz\", command=classify_image)\n",
    "browse_button.pack(pady=10)\n",
    "\n",
    "# Podgląd obrazu\n",
    "image_label = tk.Label(root)\n",
    "image_label.pack(pady=10)\n",
    "\n",
    "# Etykieta na wynik klasyfikacji\n",
    "result_text = tk.StringVar()\n",
    "result_label = Label(root, textvariable=result_text, wraplength=380)\n",
    "result_label.pack(pady=10)\n",
    "\n",
    "# Etykieta na wynik klasyfikacji\n",
    "result2_text = tk.StringVar()\n",
    "result2_label = Label(root, textvariable=result2_text, wraplength=380)\n",
    "result2_label.pack(pady=10)\n",
    "\n",
    "root.mainloop()\n"
   ]
  }
 ],
 "metadata": {
  "kernelspec": {
   "display_name": "Python 3",
   "language": "python",
   "name": "python3"
  },
  "language_info": {
   "codemirror_mode": {
    "name": "ipython",
    "version": 3
   },
   "file_extension": ".py",
   "mimetype": "text/x-python",
   "name": "python",
   "nbconvert_exporter": "python",
   "pygments_lexer": "ipython3",
   "version": "3.11.5"
  }
 },
 "nbformat": 4,
 "nbformat_minor": 2
}
